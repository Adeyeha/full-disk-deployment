{
 "cells": [
  {
   "cell_type": "code",
   "execution_count": 1,
   "metadata": {},
   "outputs": [
    {
     "name": "stdout",
     "output_type": "stream",
     "text": [
      "tensor([[0.1227, 0.8773]])\n",
      "{'source_date': '2023-11-29 21:18:12', 'obs_date': '2023-11-29 19:55:53', 'raw_filename': '2023_11_29__19_55_53_600__SDO_HMI_HMI_magnetogram.jp2', 'noaa_ar_filename': '2023_11_29_0030_UTC.txt', 'local_request_date': '2023-11-29 22:24:02', 'error': None, 'flare_probabilty': 0.12266857, 'non_flare_probabilty': 0.87733144, 'explanation': None}\n"
     ]
    }
   ],
   "source": [
    "from deployment import FullDiskFlarePrediction\n",
    "import time\n",
    "import pandas as pd\n",
    "import warnings\n",
    "warnings.filterwarnings('ignore')\n",
    "\n",
    "#Issuing prediction for M1+ Flares\n",
    "PATH1 = 'trained-models/new-fold1.pth'\n",
    "fdp = FullDiskFlarePrediction(PATH1)\n",
    "print(fdp.predict(save_artefacts=True,include_explain=False))\n"
   ]
  },
  {
   "cell_type": "code",
   "execution_count": 2,
   "metadata": {},
   "outputs": [],
   "source": [
    "import pandas as pd"
   ]
  },
  {
   "cell_type": "code",
   "execution_count": 11,
   "metadata": {},
   "outputs": [],
   "source": [
    "df = pd.read_csv('results_bkp.csv')"
   ]
  },
  {
   "cell_type": "code",
   "execution_count": 12,
   "metadata": {},
   "outputs": [
    {
     "data": {
      "text/html": [
       "<div>\n",
       "<style scoped>\n",
       "    .dataframe tbody tr th:only-of-type {\n",
       "        vertical-align: middle;\n",
       "    }\n",
       "\n",
       "    .dataframe tbody tr th {\n",
       "        vertical-align: top;\n",
       "    }\n",
       "\n",
       "    .dataframe thead th {\n",
       "        text-align: right;\n",
       "    }\n",
       "</style>\n",
       "<table border=\"1\" class=\"dataframe\">\n",
       "  <thead>\n",
       "    <tr style=\"text-align: right;\">\n",
       "      <th></th>\n",
       "      <th>source_date</th>\n",
       "      <th>obs_date</th>\n",
       "      <th>raw_filename</th>\n",
       "      <th>noaa_ar_filename</th>\n",
       "      <th>local_request_date</th>\n",
       "      <th>error</th>\n",
       "      <th>flare_probabilty</th>\n",
       "      <th>non_flare_probabilty</th>\n",
       "      <th>explanation</th>\n",
       "    </tr>\n",
       "  </thead>\n",
       "  <tbody>\n",
       "    <tr>\n",
       "      <th>0</th>\n",
       "      <td>2023-11-03 21:30:12</td>\n",
       "      <td>2023-11-03 20:09:26</td>\n",
       "      <td>2023_11_03__20_09_26_400__SDO_HMI_HMI_magnetog...</td>\n",
       "      <td>2023_11_03_0030_UTC.txt</td>\n",
       "      <td>2023-11-03 22:39:46</td>\n",
       "      <td>NaN</td>\n",
       "      <td>0.257353</td>\n",
       "      <td>0.742647</td>\n",
       "      <td>NaN</td>\n",
       "    </tr>\n",
       "  </tbody>\n",
       "</table>\n",
       "</div>"
      ],
      "text/plain": [
       "           source_date             obs_date  \\\n",
       "0  2023-11-03 21:30:12  2023-11-03 20:09:26   \n",
       "\n",
       "                                        raw_filename         noaa_ar_filename  \\\n",
       "0  2023_11_03__20_09_26_400__SDO_HMI_HMI_magnetog...  2023_11_03_0030_UTC.txt   \n",
       "\n",
       "    local_request_date  error  flare_probabilty  non_flare_probabilty  \\\n",
       "0  2023-11-03 22:39:46    NaN          0.257353              0.742647   \n",
       "\n",
       "   explanation  \n",
       "0          NaN  "
      ]
     },
     "execution_count": 12,
     "metadata": {},
     "output_type": "execute_result"
    }
   ],
   "source": [
    "df.head(1)"
   ]
  },
  {
   "cell_type": "code",
   "execution_count": 17,
   "metadata": {},
   "outputs": [
    {
     "data": {
      "text/plain": [
       "(772, 9)"
      ]
     },
     "execution_count": 17,
     "metadata": {},
     "output_type": "execute_result"
    }
   ],
   "source": [
    "df.shape"
   ]
  },
  {
   "cell_type": "code",
   "execution_count": 14,
   "metadata": {},
   "outputs": [],
   "source": [
    "# Assuming 'df' is your DataFrame\n",
    "df['flare_probabilty'], df['non_flare_probabilty'] = df['non_flare_probabilty'], df['flare_probabilty']\n"
   ]
  },
  {
   "cell_type": "code",
   "execution_count": 15,
   "metadata": {},
   "outputs": [
    {
     "data": {
      "text/html": [
       "<div>\n",
       "<style scoped>\n",
       "    .dataframe tbody tr th:only-of-type {\n",
       "        vertical-align: middle;\n",
       "    }\n",
       "\n",
       "    .dataframe tbody tr th {\n",
       "        vertical-align: top;\n",
       "    }\n",
       "\n",
       "    .dataframe thead th {\n",
       "        text-align: right;\n",
       "    }\n",
       "</style>\n",
       "<table border=\"1\" class=\"dataframe\">\n",
       "  <thead>\n",
       "    <tr style=\"text-align: right;\">\n",
       "      <th></th>\n",
       "      <th>source_date</th>\n",
       "      <th>obs_date</th>\n",
       "      <th>raw_filename</th>\n",
       "      <th>noaa_ar_filename</th>\n",
       "      <th>local_request_date</th>\n",
       "      <th>error</th>\n",
       "      <th>flare_probabilty</th>\n",
       "      <th>non_flare_probabilty</th>\n",
       "      <th>explanation</th>\n",
       "    </tr>\n",
       "  </thead>\n",
       "  <tbody>\n",
       "    <tr>\n",
       "      <th>0</th>\n",
       "      <td>2023-11-03 21:30:12</td>\n",
       "      <td>2023-11-03 20:09:26</td>\n",
       "      <td>2023_11_03__20_09_26_400__SDO_HMI_HMI_magnetog...</td>\n",
       "      <td>2023_11_03_0030_UTC.txt</td>\n",
       "      <td>2023-11-03 22:39:46</td>\n",
       "      <td>NaN</td>\n",
       "      <td>0.742647</td>\n",
       "      <td>0.257353</td>\n",
       "      <td>NaN</td>\n",
       "    </tr>\n",
       "  </tbody>\n",
       "</table>\n",
       "</div>"
      ],
      "text/plain": [
       "           source_date             obs_date  \\\n",
       "0  2023-11-03 21:30:12  2023-11-03 20:09:26   \n",
       "\n",
       "                                        raw_filename         noaa_ar_filename  \\\n",
       "0  2023_11_03__20_09_26_400__SDO_HMI_HMI_magnetog...  2023_11_03_0030_UTC.txt   \n",
       "\n",
       "    local_request_date  error  flare_probabilty  non_flare_probabilty  \\\n",
       "0  2023-11-03 22:39:46    NaN          0.742647              0.257353   \n",
       "\n",
       "   explanation  \n",
       "0          NaN  "
      ]
     },
     "execution_count": 15,
     "metadata": {},
     "output_type": "execute_result"
    }
   ],
   "source": [
    "df.head(1)"
   ]
  },
  {
   "cell_type": "code",
   "execution_count": 16,
   "metadata": {},
   "outputs": [],
   "source": [
    "df.to_csv('results.csv',index = False)"
   ]
  }
 ],
 "metadata": {
  "interpreter": {
   "hash": "941fd36a87c5738469dc397ff06d4940281c864473bb254bac79b8bf7608f41d"
  },
  "kernelspec": {
   "display_name": "Python 3.9.13 ('env': venv)",
   "language": "python",
   "name": "python3"
  },
  "language_info": {
   "codemirror_mode": {
    "name": "ipython",
    "version": 3
   },
   "file_extension": ".py",
   "mimetype": "text/x-python",
   "name": "python",
   "nbconvert_exporter": "python",
   "pygments_lexer": "ipython3",
   "version": "3.9.13"
  },
  "orig_nbformat": 4
 },
 "nbformat": 4,
 "nbformat_minor": 2
}
